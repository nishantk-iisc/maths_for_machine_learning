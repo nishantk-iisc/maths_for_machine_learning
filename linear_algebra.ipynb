{
 "cells": [
  {
   "cell_type": "markdown",
   "id": "e71fd545",
   "metadata": {},
   "source": [
    "### Chapter 1: Linear Algebra"
   ]
  },
  {
   "cell_type": "markdown",
   "id": "f4dc9384",
   "metadata": {},
   "source": [
    "#### 1. Vector Addition\n",
    "$$ u = [x_1, y_1] $$  \n",
    "$$ v = [x_2, y_2] $$\n",
    "$$ u+v = [x_1 + x_2, y_1 + y_2] $$ \n"
   ]
  },
  {
   "cell_type": "code",
   "execution_count": 1,
   "id": "919be8d5",
   "metadata": {},
   "outputs": [
    {
     "name": "stdout",
     "output_type": "stream",
     "text": [
      "[4 6]\n"
     ]
    }
   ],
   "source": [
    "import numpy as np\n",
    "u = np.array([1,2])\n",
    "v = np.array([3,4])\n",
    "result = u + v\n",
    "print(result)"
   ]
  },
  {
   "cell_type": "markdown",
   "id": "3146c778",
   "metadata": {},
   "source": [
    "#### 2. Scalar Multiplication of a vector\n",
    "$$ \\alpha = 3\\ $$ \n",
    "$$ u = [x_1, y_1] $$\n",
    "$$ v =  \\alpha * u $$"
   ]
  },
  {
   "cell_type": "code",
   "execution_count": 2,
   "id": "08ae8848",
   "metadata": {},
   "outputs": [
    {
     "name": "stdout",
     "output_type": "stream",
     "text": [
      "[ 9 -3]\n"
     ]
    }
   ],
   "source": [
    "import numpy as np\n",
    "alpha = 3\n",
    "u = np.array([3, -1])\n",
    "result = alpha * u\n",
    "print(result)"
   ]
  },
  {
   "cell_type": "markdown",
   "id": "5d73311f",
   "metadata": {},
   "source": [
    "### 3. Dot product\n",
    "$$ u . v = \\Sigma_{i=1}^{n} u_i*v_i = u_1v_1 + u_2v_2 + u_3v_3 +........+ u_nv_ni $$"
   ]
  },
  {
   "cell_type": "code",
   "execution_count": null,
   "id": "74996b08",
   "metadata": {},
   "outputs": [
    {
     "name": "stdout",
     "output_type": "stream",
     "text": [
      "11\n"
     ]
    }
   ],
   "source": [
    "import numpy as np\n",
    "u = np.array([1, 2])\n",
    "v = np.array([3, 4])\n",
    "result = np.dot(u, v)\n",
    "print(result)"
   ]
  },
  {
   "cell_type": "markdown",
   "id": "f46db973",
   "metadata": {},
   "source": [
    "#### 4. Cross Product (3D)\n",
    "$$ u = [u_1, u_2, u_3] $$  \n",
    "$$ v = [v_1, v_2, v_3] $$\n",
    "$$ u \\times v = \\begin{vmatrix}\n",
    "i & j & k\\\\\n",
    "u_1 & u_2 & u_3\\\\\n",
    "v_1 & v_2 & v_3 \n",
    "\\end{vmatrix} $$"
   ]
  },
  {
   "cell_type": "code",
   "execution_count": 4,
   "id": "00dec8bc",
   "metadata": {},
   "outputs": [
    {
     "name": "stdout",
     "output_type": "stream",
     "text": [
      "[0 0 1]\n"
     ]
    }
   ],
   "source": [
    "import numpy as np\n",
    "u = np.array([1, 0, 0])\n",
    "v = np.array([0, 1, 0])\n",
    "result = np.cross(u, v)\n",
    "print(result)"
   ]
  },
  {
   "cell_type": "markdown",
   "id": "e9d5c164",
   "metadata": {},
   "source": [
    "#### 5. Norm of vector (Euclidean)\n",
    "$$ ||v|| = \\sqrt{\\Sigma_{i=1}^{n}v_i^2} = \\sqrt{v_1^2 + v_2^2 + ..... + v_n^2   } $$"
   ]
  },
  {
   "cell_type": "code",
   "execution_count": 6,
   "id": "d51ef27a",
   "metadata": {},
   "outputs": [
    {
     "name": "stdout",
     "output_type": "stream",
     "text": [
      "5.0\n"
     ]
    }
   ],
   "source": [
    "import numpy as np\n",
    "v = np.array([3, 4])\n",
    "result = np.linalg.norm(v)\n",
    "print(result)"
   ]
  },
  {
   "cell_type": "markdown",
   "id": "31022272",
   "metadata": {},
   "source": [
    "#### 6. Orthogonality Condition\n",
    "$$ u.v = 0 $$"
   ]
  },
  {
   "cell_type": "code",
   "execution_count": null,
   "id": "2e487d65",
   "metadata": {},
   "outputs": [
    {
     "name": "stdout",
     "output_type": "stream",
     "text": [
      "0\n"
     ]
    }
   ],
   "source": [
    "import numpy as np\n",
    "u = np.array([1, 2])\n",
    "v = np.array([2, -1])\n",
    "result = np.dot(u, v)\n",
    "print(result)"
   ]
  },
  {
   "cell_type": "markdown",
   "id": "45ee45e5",
   "metadata": {},
   "source": [
    "#### 7. Matrix Addition\n",
    "$$ A + B = \\begin{bmatrix} a_{11} & a_{12}\\\\ a_{21} & a_{22}\\end{bmatrix} +  \\begin{bmatrix} b_{11} & b_{12}\\\\ b_{21} & b_{22}\\end{bmatrix} = \\begin{bmatrix} a_{11} + b_{11}& a_{12} + b_{12}\\\\ a_{12} + b_{21} & a_{22} + b_{22}\\end{bmatrix} $$"
   ]
  },
  {
   "cell_type": "code",
   "execution_count": 9,
   "id": "7cc7fffa",
   "metadata": {},
   "outputs": [
    {
     "name": "stdout",
     "output_type": "stream",
     "text": [
      "[[ 6  8]\n",
      " [10 12]]\n"
     ]
    }
   ],
   "source": [
    "import numpy as np\n",
    "A = np.array([[1, 2,], [3, 4]])\n",
    "B = np.array([[5, 6], [7, 8]])\n",
    "result =  A + B\n",
    "print(result)"
   ]
  },
  {
   "cell_type": "markdown",
   "id": "c34acbca",
   "metadata": {},
   "source": [
    "#### 8. Matrix Scalar Multiplication\n",
    "$$ \\alpha * A = \\alpha \\begin{bmatrix} a_{11} & a_{12}\\\\ a_{21} & b_{22} \\end{bmatrix} = \\begin{bmatrix} \\alpha a_{11} & \\alpha a_{12}\\\\ \\alpha a_{21} & \\alpha b_{22} \\end{bmatrix}$$"
   ]
  },
  {
   "cell_type": "code",
   "execution_count": 11,
   "id": "78b87c01",
   "metadata": {},
   "outputs": [
    {
     "name": "stdout",
     "output_type": "stream",
     "text": [
      "[[2 4]\n",
      " [6 8]]\n"
     ]
    }
   ],
   "source": [
    "import numpy as np\n",
    "alpha = 2\n",
    "A = np.array([[1, 2], [3, 4]])\n",
    "result = alpha * A\n",
    "print(result)"
   ]
  },
  {
   "cell_type": "markdown",
   "id": "a9a92b5c",
   "metadata": {},
   "source": [
    "#### 9. Matrix - Vector Multiplication\n",
    "$$ Ax = \\begin{bmatrix} a_{11} & a_{12}\\\\ a_{21} & b_{22} \\end{bmatrix} \\begin{bmatrix} x_{1} \\\\ x_{2} \\end{bmatrix} = \\begin{bmatrix} a_{11}x_1 & a_{12}x_2\\\\ a_{21}x_1 & b_{22}x_2 \\end{bmatrix}$$"
   ]
  },
  {
   "cell_type": "code",
   "execution_count": 14,
   "id": "ae4a95b5",
   "metadata": {},
   "outputs": [
    {
     "name": "stdout",
     "output_type": "stream",
     "text": [
      "[17 39]\n"
     ]
    }
   ],
   "source": [
    "import numpy as np\n",
    "A = np.array([[1, 2], [3, 4]]) \n",
    "x = np.array([5, 6])\n",
    "result = np.dot(A, x)\n",
    "print(result)"
   ]
  },
  {
   "cell_type": "markdown",
   "id": "76682d1a",
   "metadata": {},
   "source": [
    "#### 10. Matrix Multiplication\n",
    "$$ C = AB, c_{ij} = \\Sigma_{k=1}^{n}a_{ik}b_{kj} $$"
   ]
  },
  {
   "cell_type": "code",
   "execution_count": 21,
   "id": "0fe0b3a7",
   "metadata": {},
   "outputs": [
    {
     "name": "stdout",
     "output_type": "stream",
     "text": [
      "[[19 22]\n",
      " [43 50]] \n",
      "\n",
      " [[19 22]\n",
      " [43 50]]\n"
     ]
    }
   ],
   "source": [
    "import numpy as np\n",
    "A = np.array([[1, 2], [3, 4]])\n",
    "B = np.array([[5, 6], [7, 8]])\n",
    "result1 = np.matmul(A, B)\n",
    "result2 = np.dot(A, B)\n",
    "print(result1, \"\\n\\n\", result2)\n"
   ]
  },
  {
   "cell_type": "markdown",
   "id": "d91a3855",
   "metadata": {},
   "source": [
    "#### 11. Transpose of a Matrix\n",
    "$$ A^T = \\begin{bmatrix} a_{11} & a_{12}\\\\ a_{21} & b_{22} \\end{bmatrix}^T = \\begin{bmatrix} a_{11} & a_{21}\\\\ a_{12} & b_{22} \\end{bmatrix} $$"
   ]
  },
  {
   "cell_type": "code",
   "execution_count": 23,
   "id": "64b84fe1",
   "metadata": {},
   "outputs": [
    {
     "name": "stdout",
     "output_type": "stream",
     "text": [
      "[[1 4 7]\n",
      " [2 5 8]\n",
      " [3 6 9]] \n",
      "\n",
      " [[1 4 7]\n",
      " [2 5 8]\n",
      " [3 6 9]]\n"
     ]
    }
   ],
   "source": [
    "import numpy as np\n",
    "A = np.array([[1, 2, 3], [4, 5, 6], [7, 8, 9]])\n",
    "result1= np.transpose(A)\n",
    "result2 = A.T\n",
    "print(result1, \"\\n\\n\", result2)"
   ]
  },
  {
   "cell_type": "markdown",
   "id": "079642c2",
   "metadata": {},
   "source": [
    "#### 12. Determinant of a 2X2 matrix\n",
    "$$ det(A) = \\begin{vmatrix} a_{11} & a_{12} \\\\ a_{21} & a_{22} \\end{vmatrix} = a_{11}a_{22} + a_{12}a_{21} $$ "
   ]
  },
  {
   "cell_type": "code",
   "execution_count": 24,
   "id": "991e33e2",
   "metadata": {},
   "outputs": [
    {
     "name": "stdout",
     "output_type": "stream",
     "text": [
      "-14.000000000000004\n"
     ]
    }
   ],
   "source": [
    "import numpy as np\n",
    "A = np.array([[3, 8], [4, 6]])\n",
    "result = np.linalg.det(A)\n",
    "print(result)"
   ]
  },
  {
   "cell_type": "markdown",
   "id": "990928cc",
   "metadata": {},
   "source": [
    "#### 13. Inverse of a 2X2 matrix\n",
    "$$  A = \\begin{bmatrix} a_{11} & a_{12}\\\\ a_{21} & b_{22} \\end{bmatrix} $$\n",
    "$$ A^{-1} = \\frac{1}{det(A)} \\begin{bmatrix} a_{22} & -a_{12} \\\\ -a_{12} & a_{11} \\end{bmatrix}, det(A) \\ne 0 $$"
   ]
  },
  {
   "cell_type": "code",
   "execution_count": 25,
   "id": "b7568344",
   "metadata": {},
   "outputs": [
    {
     "name": "stdout",
     "output_type": "stream",
     "text": [
      "[[-0.42857143  0.57142857]\n",
      " [ 0.28571429 -0.21428571]]\n"
     ]
    }
   ],
   "source": [
    "import numpy as np\n",
    "A = np.array([[3, 8], [4, 6]])\n",
    "result = np.linalg.inv(A)\n",
    "print(result)"
   ]
  },
  {
   "cell_type": "markdown",
   "id": "6ac71201",
   "metadata": {},
   "source": [
    "#### 14. Cramer's Rule\n",
    "$$ Ax = b $$ \n",
    "$$ x_i = \\frac{det(A_i)}{det(A)}, det(A) \\ne 0 $$\n",
    "$$ A_i \\text{ is matrix replaced by each column by $ b $ one by one.} $$\n"
   ]
  },
  {
   "cell_type": "code",
   "execution_count": 59,
   "id": "747bfda2",
   "metadata": {},
   "outputs": [
    {
     "name": "stdout",
     "output_type": "stream",
     "text": [
      "[1.5999999999999994, 1.8]\n"
     ]
    }
   ],
   "source": [
    "import numpy as np\n",
    "A = np.array([[2, 1], [1, 3]])\n",
    "b = np.array([5, 7])\n",
    "det_A = np.linalg.det(A)\n",
    "## solution 1\n",
    "for i in range(A.shape[1]):\n",
    "  A_ = A.copy()\n",
    "  A_[:, i] = b\n",
    "  x = np.linalg.det(A_)/det_A\n",
    "\n",
    "## solution 2\n",
    "x = [np.linalg.det(np.column_stack([b if i == j else A[:, j] for j in range(A.shape[1])])) / det_A for i in range(A.shape[1])]\n",
    "print(x)"
   ]
  },
  {
   "cell_type": "markdown",
   "id": "773507c6",
   "metadata": {},
   "source": [
    "#### 15. Inverse of a Square matrix\n",
    "$$ A^{-1} = \\frac{1}{det(A)}adj(A), det(A) \\ne 0 $$"
   ]
  },
  {
   "cell_type": "code",
   "execution_count": 1,
   "id": "d44b463c",
   "metadata": {},
   "outputs": [
    {
     "name": "stdout",
     "output_type": "stream",
     "text": [
      "[[ 0.6 -0.7]\n",
      " [-0.2  0.4]]\n"
     ]
    }
   ],
   "source": [
    "import numpy as np\n",
    "A = np.array([[4, 7], [2, 6]])\n",
    "result = np.linalg.inv(A)\n",
    "print(result)"
   ]
  },
  {
   "cell_type": "markdown",
   "id": "e8f375fb",
   "metadata": {},
   "source": [
    "#### 16. Determinant of a Triangular Matrix\n",
    "$$ det(A) = \\prod_{i=1}^{n}a_i $$"
   ]
  },
  {
   "cell_type": "code",
   "execution_count": 2,
   "id": "faf41ab8",
   "metadata": {},
   "outputs": [
    {
     "name": "stdout",
     "output_type": "stream",
     "text": [
      "30\n"
     ]
    }
   ],
   "source": [
    "import numpy as np\n",
    "A = np.array([[2, 1, 0], [0, 3, 4], [0, 0, 5]])\n",
    "result = np.prod(np.diag(A))\n",
    "print(result)"
   ]
  },
  {
   "cell_type": "markdown",
   "id": "8a32cf4b",
   "metadata": {},
   "source": [
    "#### 17. Rank - Nullity Theorem\n",
    "$$ rank(A) + nullity(A) = n $$\n",
    " $$ n \\text{ is number of rows in square matrix} $$"
   ]
  },
  {
   "cell_type": "code",
   "execution_count": 3,
   "id": "a8fc2efb",
   "metadata": {},
   "outputs": [
    {
     "name": "stdout",
     "output_type": "stream",
     "text": [
      "rank : 2, nullity : 1\n"
     ]
    }
   ],
   "source": [
    "import numpy as np\n",
    "A = np.array([[1, 2, 3], [4, 5, 6], [7, 8, 9]])\n",
    "rank = np.linalg.matrix_rank(A)\n",
    "nullity = A.shape[1] - rank \n",
    "\n",
    "print(f\"rank : {rank}, nullity : {nullity}\")"
   ]
  },
  {
   "cell_type": "markdown",
   "id": "acf65a6e",
   "metadata": {},
   "source": [
    "#### Hadamard (ElementWise) Product\n",
    "$$ C = A \\circ B = \\begin{bmatrix} a_{11}b_{11} & a_{12}b_{12} \\\\ a_{21}b_{21} & a_{22}b_{22}\\end{bmatrix} $$"
   ]
  },
  {
   "cell_type": "code",
   "execution_count": 4,
   "id": "143c6287",
   "metadata": {},
   "outputs": [
    {
     "name": "stdout",
     "output_type": "stream",
     "text": [
      "[[ 5 12]\n",
      " [21 32]]\n"
     ]
    }
   ],
   "source": [
    "import numpy as np\n",
    "A = np.array([[1, 2], [3, 4]])\n",
    "B = np.array([[5, 6], [7, 8]])\n",
    "result = np.multiply(A, B)\n",
    "print(result)"
   ]
  },
  {
   "cell_type": "code",
   "execution_count": null,
   "id": "ed068bb7",
   "metadata": {},
   "outputs": [],
   "source": []
  }
 ],
 "metadata": {
  "kernelspec": {
   "display_name": "base",
   "language": "python",
   "name": "python3"
  },
  "language_info": {
   "codemirror_mode": {
    "name": "ipython",
    "version": 3
   },
   "file_extension": ".py",
   "mimetype": "text/x-python",
   "name": "python",
   "nbconvert_exporter": "python",
   "pygments_lexer": "ipython3",
   "version": "3.12.3"
  }
 },
 "nbformat": 4,
 "nbformat_minor": 5
}
